{
 "cells": [
  {
   "cell_type": "markdown",
   "metadata": {},
   "source": [
    "# Weather vs Latitude Analysis\n",
    "An analysis of how various weather eleements vary as a function of latitude. The analysis is done by generating a random selection of cities with varying latitude using citipy library and then pulling current weather for those cities using hte openweathermap api. The weather factors are then plotted versus latitude to look for correlations."
   ]
  },
  {
   "cell_type": "code",
   "execution_count": 1,
   "metadata": {
    "scrolled": false
   },
   "outputs": [],
   "source": [
    "# Dependencies and Setup\n",
    "import matplotlib.pyplot as plt\n",
    "import pandas as pd\n",
    "import numpy as np\n",
    "import requests\n",
    "import time\n",
    "import seaborn as sns\n",
    "from pprint import pprint\n",
    "\n",
    "# Import API key\n",
    "from config import api_key\n",
    "\n",
    "# Incorporated citipy to determine city based on latitude and longitude\n",
    "from citipy import citipy\n",
    "\n",
    "# Output File (CSV)\n",
    "output_data_file = \"output_data/cities.csv\"\n",
    "\n",
    "# Range of latitudes and longitudes\n",
    "lat_range = (-90, 90)\n",
    "lng_range = (-180, 180)\n"
   ]
  },
  {
   "cell_type": "markdown",
   "metadata": {},
   "source": [
    "## Generate Cities List"
   ]
  },
  {
   "cell_type": "code",
   "execution_count": 2,
   "metadata": {
    "scrolled": false
   },
   "outputs": [
    {
     "data": {
      "text/plain": [
       "618"
      ]
     },
     "execution_count": 2,
     "metadata": {},
     "output_type": "execute_result"
    }
   ],
   "source": [
    "# List for holding lat_lngs and cities\n",
    "lat_lngs = []\n",
    "cities = []\n",
    "\n",
    "# Create a set of random lat and lng combinations\n",
    "lats = np.random.uniform(low=-90.000, high=90.000, size=1500)\n",
    "lngs = np.random.uniform(low=-180.000, high=180.000, size=1500)\n",
    "lat_lngs = zip(lats, lngs)\n",
    "\n",
    "# Identify nearest city for each lat, lng combination\n",
    "for lat_lng in lat_lngs:\n",
    "    city = citipy.nearest_city(lat_lng[0], lat_lng[1]).city_name\n",
    "    \n",
    "    # If the city is unique, then add it to a our cities list\n",
    "    if city not in cities:\n",
    "        cities.append(city)\n",
    "\n",
    "# Print the city count to confirm sufficient count\n",
    "len(cities)\n"
   ]
  },
  {
   "cell_type": "markdown",
   "metadata": {},
   "source": [
    "## Perform API Calls"
   ]
  },
  {
   "cell_type": "code",
   "execution_count": 3,
   "metadata": {},
   "outputs": [],
   "source": [
    "# Save config information\n",
    "\n",
    "# Save config information.\n",
    "url = \"http://api.openweathermap.org/data/2.5/weather?\"\n"
   ]
  },
  {
   "cell_type": "code",
   "execution_count": null,
   "metadata": {},
   "outputs": [],
   "source": [
    "# set up lists to hold reponse info\n",
    "cities_found = []\n",
    "cloudiness = []\n",
    "country = []\n",
    "date = []\n",
    "humidity = []\n",
    "lat = []\n",
    "lon = []\n",
    "max_temp = []\n",
    "wind_speed = []\n",
    "\n",
    "# Loop through the list of cities and perform a request for data on each\n",
    "for city in cities:\n",
    "    params = {\n",
    "        'appid' : api_key,\n",
    "        'q' : city,\n",
    "        'units' : 'imperial'\n",
    "    }\n",
    "\n",
    "    response = requests.get(url, params=params).json()\n",
    "    \n",
    "    if response['cod'] == 200:\n",
    "        cities_found.append(city)\n",
    "        cloudiness.append(response['clouds']['all'])\n",
    "        country.append(response['sys']['country'])\n",
    "        date.append(response['dt'])\n",
    "        humidity.append(response['main']['humidity'])\n",
    "        lat.append(response['coord']['lat'])\n",
    "        lon.append(response['coord']['lon'])\n",
    "        max_temp.append(response['main']['temp_max'])\n",
    "        wind_speed.append(response['wind']['speed'])\n"
   ]
  },
  {
   "cell_type": "markdown",
   "metadata": {},
   "source": [
    "# Dataframe of Weather Data by City"
   ]
  },
  {
   "cell_type": "code",
   "execution_count": null,
   "metadata": {},
   "outputs": [],
   "source": [
    "# create a data frame from cities, lat, and temp\n",
    "weather_dict = {\n",
    "    \"City\": cities_found,\n",
    "    \"Cloudiness\": cloudiness,\n",
    "    \"Country\": country,\n",
    "    \"Date\": date,\n",
    "    \"Humidity\": humidity,\n",
    "    \"Lat\": lat,\n",
    "    \"Lon\": lon,\n",
    "    \"Max Temp\": max_temp,\n",
    "    \"Wind Speed\": wind_speed,\n",
    "}\n",
    "weather_data = pd.DataFrame(weather_dict)\n",
    "weather_data.head()\n"
   ]
  },
  {
   "cell_type": "code",
   "execution_count": null,
   "metadata": {},
   "outputs": [],
   "source": [
    "# check to see if we have enough datapoints\n",
    "len(weather_data)"
   ]
  },
  {
   "cell_type": "markdown",
   "metadata": {},
   "source": [
    "# Latitude vs. Max Temperature Plot"
   ]
  },
  {
   "cell_type": "code",
   "execution_count": null,
   "metadata": {},
   "outputs": [],
   "source": [
    "# create scatter plot of max temp versus latitude\n",
    "axes = weather_data.plot(kind='scatter', x='Lat', y='Max Temp', s = 10, color='blue', edgecolors = \"black\", linewidth=.5)\n",
    "\n",
    "# set axis limits\n",
    "axes.set_ylim((-0,125))\n",
    "axes.set_xlim((-80,100))\n",
    "\n",
    "# set text labels\n",
    "axes.set_title(\"City Latitude vs Max Temperature (08/25/18)\", fontsize = 10)\n",
    "axes.set_xlabel(\"Latitude\", fontsize = 9)\n",
    "axes.set_ylabel(\"Max Temperature (F)\", fontsize = 9)\n",
    "axes.tick_params(axis='both', labelsize= 9)\n",
    "\n",
    "# specify formats\n",
    "sns.set()\n",
    "\n",
    "# Save the figure\n",
    "fig = axes.get_figure()\n",
    "fig.savefig(\"MaxTempvsLat.png\")\n"
   ]
  },
  {
   "cell_type": "markdown",
   "metadata": {},
   "source": [
    "### Observations from Latitude versus Max Temperature Plot\n",
    "\n",
    "The chart above illustrates a basic truth about global geography: Earth has much more land mass in the northern latitudes than in the southern latitudes. This is evidenced by the number of datapoints that I was able ot extract for the two regions. There are many datapoints above 60 degrees north, but very few below -60 degrees south.\n",
    "\n",
    "Regarding max temperature, the chart above shows what would be expected: max tempertures are higher at the equator than it is closer to the poles. By looking at equivalent latitudes (ex -40, +40), the fact that it is summer in the northern hemisphere and winter in the southern hemiphere.\n"
   ]
  },
  {
   "cell_type": "markdown",
   "metadata": {},
   "source": [
    "# Latitude vs. Humidity Plot"
   ]
  },
  {
   "cell_type": "code",
   "execution_count": null,
   "metadata": {},
   "outputs": [],
   "source": [
    "# create scatter plot of humidity versus latitude\n",
    "axes = weather_data.plot(kind='scatter', x='Lat', y='Humidity', s = 10, color='blue', edgecolors = \"black\", linewidth=.5)\n",
    "\n",
    "# set axis limits\n",
    "axes.set_ylim((-20,120))\n",
    "axes.set_xlim((-80,100))\n",
    "\n",
    "# set text labels\n",
    "axes.set_title(\"City Latitude vs Humidity (08/25/18)\", fontsize = 10)\n",
    "axes.set_xlabel(\"Latitude\", fontsize = 9)\n",
    "axes.set_ylabel(\"Humidity (%)\", fontsize = 9)\n",
    "axes.tick_params(axis='both', labelsize= 9)\n",
    "\n",
    "# specify formats\n",
    "sns.set()\n",
    "\n",
    "# Save the figure\n",
    "fig = axes.get_figure()\n",
    "fig.savefig(\"HumidityvsLat.png\")\n"
   ]
  },
  {
   "cell_type": "markdown",
   "metadata": {},
   "source": [
    "### Observations from Latitude versus Humidity Plot\n",
    "\n",
    "The Latitude vs Humidty plot primarily illustrates that there is a broad range of humidity at all latitudes with 40% to 100% being found in most latitudes. This dataset does see to show that there are fewer low humidity data points at the equator and the poles with the middle latitudes displaying the lowest humidity data points."
   ]
  },
  {
   "cell_type": "markdown",
   "metadata": {},
   "source": [
    "# Latitude vs. Cloudiness Plot"
   ]
  },
  {
   "cell_type": "code",
   "execution_count": null,
   "metadata": {},
   "outputs": [],
   "source": [
    "# create scatter plot of cloudiness versus latitude\n",
    "axes = weather_data.plot(kind='scatter', x='Lat', y='Cloudiness', s = 10, color='blue', edgecolors = \"black\", linewidth=.5)\n",
    "\n",
    "# set axis limits\n",
    "axes.set_ylim((-20,120))\n",
    "axes.set_xlim((-80,100))\n",
    "\n",
    "# set text labels\n",
    "axes.set_title(\"City Latitude vs Cloudiness (08/25/18)\", fontsize = 10)\n",
    "axes.set_xlabel(\"Latitude\", fontsize = 9)\n",
    "axes.set_ylabel(\"Cloudiness (%)\", fontsize = 9)\n",
    "axes.tick_params(axis='both', labelsize= 9)\n",
    "\n",
    "# specify formats\n",
    "sns.set()\n",
    "\n",
    "# Save the figure\n",
    "fig = axes.get_figure()\n",
    "fig.savefig(\"CloudinessvsLat.png\")\n"
   ]
  },
  {
   "cell_type": "markdown",
   "metadata": {},
   "source": [
    "### Observations from Latitude versus Cloudiness Plot\n",
    "\n",
    "The plot of Latitude versus Cloudiness, shows little discernable trends across latitudes. Across all latitudes, more datapoints are showing 0 cloudiness than any other level."
   ]
  },
  {
   "cell_type": "markdown",
   "metadata": {},
   "source": [
    "# Latitude vs. Wind Speed Plot"
   ]
  },
  {
   "cell_type": "code",
   "execution_count": null,
   "metadata": {},
   "outputs": [],
   "source": [
    "# create scatter plot of windspeed versus latitude\n",
    "axes = weather_data.plot(kind='scatter', x='Lat', y='Wind Speed', s = 10, color='blue', edgecolors = \"black\", linewidth=.5)\n",
    "\n",
    "# set axis limits\n",
    "axes.set_ylim((-5,40))\n",
    "axes.set_xlim((-80,100))\n",
    "\n",
    "# set text labels\n",
    "axes.set_title(\"City Latitude vs Wind Speed (08/25/18)\", fontsize = 10)\n",
    "axes.set_xlabel(\"Latitude\", fontsize = 9)\n",
    "axes.set_ylabel(\"Wind Speed (mph)\", fontsize = 9)\n",
    "axes.tick_params(axis='both', labelsize= 9)\n",
    "\n",
    "# specify formats\n",
    "sns.set()\n",
    "\n",
    "# Save the figure\n",
    "fig = axes.get_figure()\n",
    "fig.savefig(\"WindspeedvsLat.png\")\n"
   ]
  },
  {
   "cell_type": "markdown",
   "metadata": {},
   "source": [
    "### Observations from Latitude versus Wind Speed Plot\n",
    "\n",
    "The chart above does not show strong trends in wind speed across latitudes. It does appear that there are more extreme wind speeds near the poles than close to the equator. However, the trend is slight enough that statistical analysis would be required to determine if the trend is significant."
   ]
  }
 ],
 "metadata": {
  "anaconda-cloud": {},
  "kernelspec": {
   "display_name": "Python 3",
   "language": "python",
   "name": "python3"
  },
  "language_info": {
   "codemirror_mode": {
    "name": "ipython",
    "version": 3
   },
   "file_extension": ".py",
   "mimetype": "text/x-python",
   "name": "python",
   "nbconvert_exporter": "python",
   "pygments_lexer": "ipython3",
   "version": "3.6.5"
  }
 },
 "nbformat": 4,
 "nbformat_minor": 1
}
